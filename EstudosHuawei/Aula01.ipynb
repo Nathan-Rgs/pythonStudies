{
 "cells": [
  {
   "cell_type": "code",
   "execution_count": 13,
   "metadata": {},
   "outputs": [
    {
     "ename": "SyntaxError",
     "evalue": "invalid syntax (1139185418.py, line 4)",
     "output_type": "error",
     "traceback": [
      "\u001b[1;36m  Cell \u001b[1;32mIn [13], line 4\u001b[1;36m\u001b[0m\n\u001b[1;33m    pip install selenium\u001b[0m\n\u001b[1;37m        ^\u001b[0m\n\u001b[1;31mSyntaxError\u001b[0m\u001b[1;31m:\u001b[0m invalid syntax\n"
     ]
    }
   ],
   "source": [
    "pip install selenium"
   ]
  },
  {
   "cell_type": "code",
   "execution_count": 3,
   "metadata": {},
   "outputs": [],
   "source": [
    "import pandas as pd\n",
    "from selenium import webdriver\n",
    "from selenium.webdriver.common.by import By\n",
    "from selenium.webdriver.chrome.options import Options\n",
    "from selenium.webdriver.common.keys import Keys\n",
    "from selenium.webdriver.common.action_chains import ActionChains\n",
    "from datetime import datetime, timedelta\n",
    "import glob\n",
    "import time"
   ]
  },
  {
   "cell_type": "code",
   "execution_count": 4,
   "metadata": {},
   "outputs": [],
   "source": [
    "def create_driver(download_dir=None, headless=False):\n",
    "    chrome_options = Options()\n",
    "\n",
    "    preferences = {\"download.default_directory\": download_dir,\n",
    "                    \"directory_upgrade\": True,\n",
    "                    \"safebrowsing.enabled\": True\n",
    "    }\n",
    "\n",
    "    if headless:\n",
    "        chrome_options.headless = True\n",
    "\n",
    "    driver = webdriver.Chrome(options=chrome_options)\n",
    "    driver.implicity_wait(20)\n",
    "\n",
    "    return driver"
   ]
  },
  {
   "cell_type": "code",
   "execution_count": 6,
   "metadata": {},
   "outputs": [
    {
     "ename": "NameError",
     "evalue": "name 'By' is not defined",
     "output_type": "error",
     "traceback": [
      "\u001b[1;31m---------------------------------------------------------------------------\u001b[0m",
      "\u001b[1;31mNameError\u001b[0m                                 Traceback (most recent call last)",
      "Cell \u001b[1;32mIn [6], line 1\u001b[0m\n\u001b[1;32m----> 1\u001b[0m \u001b[39mdef\u001b[39;00m \u001b[39mclicking\u001b[39m(path, element \u001b[39m=\u001b[39m \u001b[39m'\u001b[39m\u001b[39melemento selecionado\u001b[39m\u001b[39m'\u001b[39m, refresh\u001b[39m=\u001b[39m\u001b[39mFalse\u001b[39;00m, by\u001b[39m=\u001b[39mBy\u001b[39m.\u001b[39mXPATH, limit\u001b[39m=\u001b[39m\u001b[39m3\u001b[39m):\n\u001b[0;32m      2\u001b[0m     \u001b[39mif\u001b[39;00m limit \u001b[39m==\u001b[39m \u001b[39m0\u001b[39m:\n\u001b[0;32m      3\u001b[0m         \u001b[39mreturn\u001b[39;00m \u001b[39mNone\u001b[39;00m\n",
      "\u001b[1;31mNameError\u001b[0m: name 'By' is not defined"
     ]
    }
   ],
   "source": [
    "def clicking(path, element = 'elemento selecionado', refresh=False, by=By.XPATH, limit=3):\n",
    "    if limit == 0:\n",
    "        return None\n",
    "    elif refresh: \n",
    "        driver.refresh()\n",
    "    \n",
    "    try: \n",
    "        object = driver.find_element(by,path)\n",
    "        actions = ActionChains(driver)\n",
    "        actions.move_to_element(object).perform\n",
    "\n",
    "        found_element = driver.find_element(by, path)\n",
    "        print('Sucesso! {element}')\n",
    "\n",
    "    except:\n",
    "        print('Erro ao {element}, tentando novamente')\n",
    "        found_element = clicking(element=element, path=path, refresh=refresh, by=by, limit=limit-1)\n",
    "\n",
    "    return found_element"
   ]
  },
  {
   "cell_type": "code",
   "execution_count": null,
   "metadata": {},
   "outputs": [],
   "source": [
    "path = r'C:\\Users\\Nathan\\Downloads\\Downloads Robozinho'"
   ]
  }
 ],
 "metadata": {
  "kernelspec": {
   "display_name": "Python 3.10.7 ('venv': venv)",
   "language": "python",
   "name": "python3"
  },
  "language_info": {
   "codemirror_mode": {
    "name": "ipython",
    "version": 3
   },
   "file_extension": ".py",
   "mimetype": "text/x-python",
   "name": "python",
   "nbconvert_exporter": "python",
   "pygments_lexer": "ipython3",
   "version": "3.10.7"
  },
  "orig_nbformat": 4,
  "vscode": {
   "interpreter": {
    "hash": "79c3eca4fdf1d758ced7ab9ccc4abad589ab5e4a27002ad46cb644dfeb5eb87b"
   }
  }
 },
 "nbformat": 4,
 "nbformat_minor": 2
}

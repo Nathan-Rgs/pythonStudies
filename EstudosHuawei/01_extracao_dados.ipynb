{
 "cells": [
  {
   "cell_type": "markdown",
   "metadata": {},
   "source": [
    "# 1-Configuração do Ambiente virtual\n",
    "    1-Abrir terminal\n",
    "    2-\"pipenv shell\""
   ]
  },
  {
   "cell_type": "code",
   "execution_count": 63,
   "metadata": {},
   "outputs": [
    {
     "name": "stdout",
     "output_type": "stream",
     "text": [
      "Requirement already satisfied: selenium in c:\\users\\nathan\\desktop\\facens\\projetos portifólio\\pythonstudies\\estudoshuawei\\venv\\lib\\site-packages (4.5.0)\n",
      "Requirement already satisfied: urllib3[socks]~=1.26 in c:\\users\\nathan\\desktop\\facens\\projetos portifólio\\pythonstudies\\estudoshuawei\\venv\\lib\\site-packages (from selenium) (1.26.12)\n",
      "Requirement already satisfied: trio~=0.17 in c:\\users\\nathan\\desktop\\facens\\projetos portifólio\\pythonstudies\\estudoshuawei\\venv\\lib\\site-packages (from selenium) (0.22.0)\n",
      "Requirement already satisfied: trio-websocket~=0.9 in c:\\users\\nathan\\desktop\\facens\\projetos portifólio\\pythonstudies\\estudoshuawei\\venv\\lib\\site-packages (from selenium) (0.9.2)\n",
      "Requirement already satisfied: certifi>=2021.10.8 in c:\\users\\nathan\\desktop\\facens\\projetos portifólio\\pythonstudies\\estudoshuawei\\venv\\lib\\site-packages (from selenium) (2022.9.24)\n",
      "Requirement already satisfied: outcome in c:\\users\\nathan\\desktop\\facens\\projetos portifólio\\pythonstudies\\estudoshuawei\\venv\\lib\\site-packages (from trio~=0.17->selenium) (1.2.0)\n",
      "Requirement already satisfied: async-generator>=1.9 in c:\\users\\nathan\\desktop\\facens\\projetos portifólio\\pythonstudies\\estudoshuawei\\venv\\lib\\site-packages (from trio~=0.17->selenium) (1.10)\n",
      "Requirement already satisfied: cffi>=1.14 in c:\\users\\nathan\\desktop\\facens\\projetos portifólio\\pythonstudies\\estudoshuawei\\venv\\lib\\site-packages (from trio~=0.17->selenium) (1.15.1)\n",
      "Requirement already satisfied: attrs>=19.2.0 in c:\\users\\nathan\\desktop\\facens\\projetos portifólio\\pythonstudies\\estudoshuawei\\venv\\lib\\site-packages (from trio~=0.17->selenium) (22.1.0)\n",
      "Requirement already satisfied: idna in c:\\users\\nathan\\desktop\\facens\\projetos portifólio\\pythonstudies\\estudoshuawei\\venv\\lib\\site-packages (from trio~=0.17->selenium) (3.4)\n",
      "Requirement already satisfied: exceptiongroup>=1.0.0rc9 in c:\\users\\nathan\\desktop\\facens\\projetos portifólio\\pythonstudies\\estudoshuawei\\venv\\lib\\site-packages (from trio~=0.17->selenium) (1.0.0rc9)\n",
      "Requirement already satisfied: sortedcontainers in c:\\users\\nathan\\desktop\\facens\\projetos portifólio\\pythonstudies\\estudoshuawei\\venv\\lib\\site-packages (from trio~=0.17->selenium) (2.4.0)\n",
      "Requirement already satisfied: sniffio in c:\\users\\nathan\\desktop\\facens\\projetos portifólio\\pythonstudies\\estudoshuawei\\venv\\lib\\site-packages (from trio~=0.17->selenium) (1.3.0)\n",
      "Requirement already satisfied: wsproto>=0.14 in c:\\users\\nathan\\desktop\\facens\\projetos portifólio\\pythonstudies\\estudoshuawei\\venv\\lib\\site-packages (from trio-websocket~=0.9->selenium) (1.2.0)\n",
      "Requirement already satisfied: PySocks!=1.5.7,<2.0,>=1.5.6 in c:\\users\\nathan\\desktop\\facens\\projetos portifólio\\pythonstudies\\estudoshuawei\\venv\\lib\\site-packages (from urllib3[socks]~=1.26->selenium) (1.7.1)\n",
      "Requirement already satisfied: pycparser in c:\\users\\nathan\\desktop\\facens\\projetos portifólio\\pythonstudies\\estudoshuawei\\venv\\lib\\site-packages (from cffi>=1.14->trio~=0.17->selenium) (2.21)\n",
      "Requirement already satisfied: h11<1,>=0.9.0 in c:\\users\\nathan\\desktop\\facens\\projetos portifólio\\pythonstudies\\estudoshuawei\\venv\\lib\\site-packages (from wsproto>=0.14->trio-websocket~=0.9->selenium) (0.14.0)\n",
      "Note: you may need to restart the kernel to use updated packages.\n"
     ]
    }
   ],
   "source": [
    "pip install selenium"
   ]
  },
  {
   "cell_type": "code",
   "execution_count": 64,
   "metadata": {},
   "outputs": [
    {
     "name": "stdout",
     "output_type": "stream",
     "text": [
      "Requirement already satisfied: pandas in c:\\users\\nathan\\desktop\\facens\\projetos portifólio\\pythonstudies\\estudoshuawei\\venv\\lib\\site-packages (1.5.1)\n",
      "Requirement already satisfied: numpy>=1.21.0 in c:\\users\\nathan\\desktop\\facens\\projetos portifólio\\pythonstudies\\estudoshuawei\\venv\\lib\\site-packages (from pandas) (1.23.4)\n",
      "Requirement already satisfied: python-dateutil>=2.8.1 in c:\\users\\nathan\\desktop\\facens\\projetos portifólio\\pythonstudies\\estudoshuawei\\venv\\lib\\site-packages (from pandas) (2.8.2)\n",
      "Requirement already satisfied: pytz>=2020.1 in c:\\users\\nathan\\desktop\\facens\\projetos portifólio\\pythonstudies\\estudoshuawei\\venv\\lib\\site-packages (from pandas) (2022.5)\n",
      "Requirement already satisfied: six>=1.5 in c:\\users\\nathan\\desktop\\facens\\projetos portifólio\\pythonstudies\\estudoshuawei\\venv\\lib\\site-packages (from python-dateutil>=2.8.1->pandas) (1.16.0)\n",
      "Note: you may need to restart the kernel to use updated packages.\n"
     ]
    }
   ],
   "source": [
    "pip install pandas"
   ]
  },
  {
   "cell_type": "code",
   "execution_count": 65,
   "metadata": {},
   "outputs": [
    {
     "name": "stdout",
     "output_type": "stream",
     "text": [
      "Note: you may need to restart the kernel to use updated packages.\n"
     ]
    },
    {
     "name": "stderr",
     "output_type": "stream",
     "text": [
      "ERROR: Could not find a version that satisfies the requirement glob (from versions: none)\n",
      "ERROR: No matching distribution found for glob\n"
     ]
    }
   ],
   "source": [
    "pip install glob"
   ]
  },
  {
   "cell_type": "markdown",
   "metadata": {},
   "source": [
    "# 2-Navegação Web"
   ]
  },
  {
   "cell_type": "markdown",
   "metadata": {},
   "source": [
    "    1-Necessário baixar o chromedriver\n",
    "    2-Baixar segundo a versão do seu chrome"
   ]
  },
  {
   "cell_type": "code",
   "execution_count": 66,
   "metadata": {},
   "outputs": [],
   "source": [
    "import pandas as pd\n",
    "from selenium import webdriver\n",
    "from selenium.webdriver.common.by import By\n",
    "from selenium.webdriver.chrome.options import Options\n",
    "from selenium.webdriver.common.keys import Keys\n",
    "from selenium.webdriver.common.action_chains import ActionChains\n",
    "from datetime import datetime, timedelta\n",
    "import glob\n",
    "import time"
   ]
  },
  {
   "cell_type": "code",
   "execution_count": 67,
   "metadata": {},
   "outputs": [],
   "source": [
    "def create_driver(donwload_dir=None, headless=False):\n",
    "    chrome_options = Options()\n",
    "\n",
    "    preferences = {\"download.default_directory\": donwload_dir,\n",
    "                    \"directory_upgrade\": True,\n",
    "                    \"safebrosing.enabled\": True}\n",
    "\n",
    "    chrome_options.add_experimental_option(\"prefs\", preferences)\n",
    "\n",
    "    if headless:\n",
    "        chrome_options.headless = True\n",
    "    \n",
    "    driver = webdriver.Chrome(options=chrome_options)\n",
    "    driver.implicitly_wait(20)\n",
    "\n",
    "    return driver"
   ]
  },
  {
   "cell_type": "code",
   "execution_count": 68,
   "metadata": {},
   "outputs": [],
   "source": [
    "def clicking(path, element='elemento selecionado', refresh=False, by=By.XPATH, limit=3):\n",
    "    \"\"\"\n",
    "    \"\"\"\n",
    "\n",
    "    if limit == 0:\n",
    "        return None\n",
    "    elif refresh:\n",
    "        driver.refresh()\n",
    "\n",
    "    try:\n",
    "        object = driver.find_element(by, path)\n",
    "        actions = ActionChains(driver)\n",
    "        actions.move_to_element(object).perform()\n",
    "\n",
    "        found_element = driver.find_element(by, path)\n",
    "        print(f\">>>Sucesso {element}>>>\")\n",
    "\n",
    "    except:\n",
    "        print(f\"<<<Erro ao {element}, tentando novamente>>>\")\n",
    "        found_element = clicking(element=element, path=path, refresh=refresh, by=by, limit=limit - 1)\n",
    "\n",
    "    return found_element"
   ]
  },
  {
   "cell_type": "code",
   "execution_count": 69,
   "metadata": {},
   "outputs": [],
   "source": [
    "path = r'D:\\Nathan\\Documentos\\Downloads Robozinho'\n",
    "driver=create_driver(donwload_dir=path)"
   ]
  },
  {
   "cell_type": "code",
   "execution_count": 70,
   "metadata": {},
   "outputs": [],
   "source": [
    "driver.get('https://www.google.com/')"
   ]
  },
  {
   "cell_type": "code",
   "execution_count": 71,
   "metadata": {},
   "outputs": [
    {
     "name": "stdout",
     "output_type": "stream",
     "text": [
      ">>>Sucesso Clicando no campo da pesquisa>>>\n"
     ]
    }
   ],
   "source": [
    "pesquisa = clicking(element='Clicando no campo da pesquisa', path='/html/body/div[1]/div[3]/form/div[1]/div[1]/div[1]/div/div[2]/input')\n",
    "pesquisa.send_keys(\"Clima hoje em Sorocaba\")"
   ]
  },
  {
   "cell_type": "code",
   "execution_count": 72,
   "metadata": {},
   "outputs": [],
   "source": [
    "pesquisa.send_keys(Keys.ENTER)"
   ]
  },
  {
   "cell_type": "code",
   "execution_count": null,
   "metadata": {},
   "outputs": [],
   "source": []
  }
 ],
 "metadata": {
  "kernelspec": {
   "display_name": "Python 3.10.7 ('venv': venv)",
   "language": "python",
   "name": "python3"
  },
  "language_info": {
   "codemirror_mode": {
    "name": "ipython",
    "version": 3
   },
   "file_extension": ".py",
   "mimetype": "text/x-python",
   "name": "python",
   "nbconvert_exporter": "python",
   "pygments_lexer": "ipython3",
   "version": "3.10.7"
  },
  "orig_nbformat": 4,
  "vscode": {
   "interpreter": {
    "hash": "db37325d32664100e59b05526bbc64c3d8e2f2ae5ad37e91f446f46d7ef90427"
   }
  }
 },
 "nbformat": 4,
 "nbformat_minor": 2
}
